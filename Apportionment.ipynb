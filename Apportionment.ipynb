{
  "nbformat": 4,
  "nbformat_minor": 0,
  "metadata": {
    "colab": {
      "name": "Apportionment.ipynb",
      "provenance": [],
      "collapsed_sections": [],
      "authorship_tag": "ABX9TyO1LfDPN1ncWT0FUz51bJme",
      "include_colab_link": true
    },
    "kernelspec": {
      "name": "python3",
      "display_name": "Python 3"
    },
    "language_info": {
      "name": "python"
    }
  },
  "cells": [
    {
      "cell_type": "markdown",
      "metadata": {
        "id": "view-in-github",
        "colab_type": "text"
      },
      "source": [
        "<a href=\"https://colab.research.google.com/github/TimeMagazineLabs/CongressionalApportionment/blob/main/Apportionment.ipynb\" target=\"_parent\"><img src=\"https://colab.research.google.com/assets/colab-badge.svg\" alt=\"Open In Colab\"/></a>"
      ]
    },
    {
      "cell_type": "code",
      "metadata": {
        "id": "bdzSAmnRoMaI"
      },
      "source": [
        "from IPython.display import HTML, Latex\n",
        "import numpy as np\n",
        "import pandas as pd"
      ],
      "execution_count": 1,
      "outputs": []
    },
    {
      "cell_type": "markdown",
      "metadata": {
        "id": "jyxvcHdanwRk"
      },
      "source": [
        "# What if D.C. or Puerto Rico Were States?\n",
        "\n",
        "Recalculating Congressional apportionments based on the new [2020 Census decennial population count](https://www.census.gov/data/tables/2020/dec/2020-apportionment-data.html)"
      ]
    },
    {
      "cell_type": "markdown",
      "metadata": {
        "id": "7Oag308Cozwe"
      },
      "source": [
        "## The Equal Proportions Method\n",
        "\n",
        "Since 1940, Congress [has used the \"Equal Proportions Method\"](https://www.census.gov/topics/public-sector/congressional-apportionment/about/computing.html) to apportion the 435 House seats to each state.\n",
        "\n",
        "First, per the Constitution, every state gets one seat. For the remaining 385, each state's \"priority\" is measured by a simple formula that divides its population, as of the most recent decennial Census, but the number of seats is current has and that number plus 1.\n",
        "\\begin{equation}\n",
        "priority = \\frac{P}{\\sqrt{n*(n+1)}}\n",
        "\\end{equation}\n",
        "For each seat, one at a time, the state with the highest priority is awarded that seat. Then its priority is recalculated and it moves further back in the line."
      ]
    },
    {
      "cell_type": "markdown",
      "metadata": {
        "id": "2P5XlgG55IwS"
      },
      "source": [
        "## Loading the Data\n",
        "\n",
        "The [GitHub repo for this demo](https://github.com/TimeMagazineLabs/CongressionalApportionment) has data files from Census.gov for the 2010 and 2020 decennial Census counts as well as the official apportionments so that we can check our work. Here's what the data looks like:"
      ]
    },
    {
      "cell_type": "code",
      "metadata": {
        "colab": {
          "base_uri": "https://localhost:8080/",
          "height": 204
        },
        "id": "prfOfpPPskGA",
        "outputId": "bd1f2b63-bf06-414f-8104-bef99045fee6"
      },
      "source": [
        "data_2020 = pd.read_csv('https://raw.githubusercontent.com/TimeMagazineLabs/CongressionalApportionment/main/data/apportionment_2020.csv',dtype={'State': 'string', 'Abbr': 'string', 'Reps': 'Int64'})\n",
        "data_2020['Per_Rep'] = np.int64(data_2020['Population'] / data_2020['Reps'])\n",
        "data_2020.head()"
      ],
      "execution_count": 2,
      "outputs": [
        {
          "output_type": "execute_result",
          "data": {
            "text/html": [
              "<div>\n",
              "<style scoped>\n",
              "    .dataframe tbody tr th:only-of-type {\n",
              "        vertical-align: middle;\n",
              "    }\n",
              "\n",
              "    .dataframe tbody tr th {\n",
              "        vertical-align: top;\n",
              "    }\n",
              "\n",
              "    .dataframe thead th {\n",
              "        text-align: right;\n",
              "    }\n",
              "</style>\n",
              "<table border=\"1\" class=\"dataframe\">\n",
              "  <thead>\n",
              "    <tr style=\"text-align: right;\">\n",
              "      <th></th>\n",
              "      <th>State</th>\n",
              "      <th>Abbr</th>\n",
              "      <th>Year</th>\n",
              "      <th>Population</th>\n",
              "      <th>Reps</th>\n",
              "      <th>Per_Rep</th>\n",
              "    </tr>\n",
              "  </thead>\n",
              "  <tbody>\n",
              "    <tr>\n",
              "      <th>0</th>\n",
              "      <td>Alabama</td>\n",
              "      <td>AL</td>\n",
              "      <td>2020</td>\n",
              "      <td>5030053</td>\n",
              "      <td>7</td>\n",
              "      <td>718579</td>\n",
              "    </tr>\n",
              "    <tr>\n",
              "      <th>1</th>\n",
              "      <td>Alaska</td>\n",
              "      <td>AK</td>\n",
              "      <td>2020</td>\n",
              "      <td>736081</td>\n",
              "      <td>1</td>\n",
              "      <td>736081</td>\n",
              "    </tr>\n",
              "    <tr>\n",
              "      <th>2</th>\n",
              "      <td>Arizona</td>\n",
              "      <td>AZ</td>\n",
              "      <td>2020</td>\n",
              "      <td>7158923</td>\n",
              "      <td>9</td>\n",
              "      <td>795435</td>\n",
              "    </tr>\n",
              "    <tr>\n",
              "      <th>3</th>\n",
              "      <td>Arkansas</td>\n",
              "      <td>AR</td>\n",
              "      <td>2020</td>\n",
              "      <td>3013756</td>\n",
              "      <td>4</td>\n",
              "      <td>753439</td>\n",
              "    </tr>\n",
              "    <tr>\n",
              "      <th>4</th>\n",
              "      <td>California</td>\n",
              "      <td>CA</td>\n",
              "      <td>2020</td>\n",
              "      <td>39576757</td>\n",
              "      <td>52</td>\n",
              "      <td>761091</td>\n",
              "    </tr>\n",
              "  </tbody>\n",
              "</table>\n",
              "</div>"
            ],
            "text/plain": [
              "        State Abbr  Year  Population  Reps  Per_Rep\n",
              "0     Alabama   AL  2020     5030053     7   718579\n",
              "1      Alaska   AK  2020      736081     1   736081\n",
              "2     Arizona   AZ  2020     7158923     9   795435\n",
              "3    Arkansas   AR  2020     3013756     4   753439\n",
              "4  California   CA  2020    39576757    52   761091"
            ]
          },
          "metadata": {
            "tags": []
          },
          "execution_count": 2
        }
      ]
    },
    {
      "cell_type": "markdown",
      "metadata": {
        "id": "IiOgshjN6coC"
      },
      "source": [
        "## Recalculating the apportionments\n",
        "Before we get fancy, let's recalculate the apportionment and make sure it matches the official tally. We'll make a copy of the data frame for each trial run and add columns for the calculated reps and the priority from the Equal Proportions Method algorithm. Remember, each state starts with 1 seat, so we'll initialize `RepsCalculated` to 1 and start the apportionment with 385 seats remaining.\n",
        "\n",
        "Since the data includes Puerto Rico and D.C., neither of which are eligible for reps, we'll need to remove them."
      ]
    },
    {
      "cell_type": "code",
      "metadata": {
        "colab": {
          "base_uri": "https://localhost:8080/"
        },
        "id": "9DZvk7A0BlOc",
        "outputId": "8e6c89b2-da3d-4c69-854e-3ad438ecec6a"
      },
      "source": [
        "data_2020_states_only = data_2020[~data_2020['State'].isin([\"District of Columbia\", \"Puerto Rico\"])]\n",
        "data_2020_states_only.reset_index(drop=True)\n",
        "print(data_2020.shape[0], data_2020_states_only.shape[0])"
      ],
      "execution_count": 3,
      "outputs": [
        {
          "output_type": "stream",
          "text": [
            "52 50\n"
          ],
          "name": "stdout"
        }
      ]
    },
    {
      "cell_type": "code",
      "metadata": {
        "colab": {
          "base_uri": "https://localhost:8080/",
          "height": 204
        },
        "id": "Gm6BEf1css7x",
        "outputId": "3a68865a-0daf-435d-e582-9887ae3bf01c"
      },
      "source": [
        "test_2020 = data_2020_states_only.copy()\n",
        "test_2020['RepsCalculated'] = 1\n",
        "#test_2020['RepsCalculated'] = test_2020['RepsCalculated'].astype('Int64')\n",
        "test_2020['Priority'] = 0.0\n",
        "test_2020.head()"
      ],
      "execution_count": 4,
      "outputs": [
        {
          "output_type": "execute_result",
          "data": {
            "text/html": [
              "<div>\n",
              "<style scoped>\n",
              "    .dataframe tbody tr th:only-of-type {\n",
              "        vertical-align: middle;\n",
              "    }\n",
              "\n",
              "    .dataframe tbody tr th {\n",
              "        vertical-align: top;\n",
              "    }\n",
              "\n",
              "    .dataframe thead th {\n",
              "        text-align: right;\n",
              "    }\n",
              "</style>\n",
              "<table border=\"1\" class=\"dataframe\">\n",
              "  <thead>\n",
              "    <tr style=\"text-align: right;\">\n",
              "      <th></th>\n",
              "      <th>State</th>\n",
              "      <th>Abbr</th>\n",
              "      <th>Year</th>\n",
              "      <th>Population</th>\n",
              "      <th>Reps</th>\n",
              "      <th>Per_Rep</th>\n",
              "      <th>RepsCalculated</th>\n",
              "      <th>Priority</th>\n",
              "    </tr>\n",
              "  </thead>\n",
              "  <tbody>\n",
              "    <tr>\n",
              "      <th>0</th>\n",
              "      <td>Alabama</td>\n",
              "      <td>AL</td>\n",
              "      <td>2020</td>\n",
              "      <td>5030053</td>\n",
              "      <td>7</td>\n",
              "      <td>718579</td>\n",
              "      <td>1</td>\n",
              "      <td>0.0</td>\n",
              "    </tr>\n",
              "    <tr>\n",
              "      <th>1</th>\n",
              "      <td>Alaska</td>\n",
              "      <td>AK</td>\n",
              "      <td>2020</td>\n",
              "      <td>736081</td>\n",
              "      <td>1</td>\n",
              "      <td>736081</td>\n",
              "      <td>1</td>\n",
              "      <td>0.0</td>\n",
              "    </tr>\n",
              "    <tr>\n",
              "      <th>2</th>\n",
              "      <td>Arizona</td>\n",
              "      <td>AZ</td>\n",
              "      <td>2020</td>\n",
              "      <td>7158923</td>\n",
              "      <td>9</td>\n",
              "      <td>795435</td>\n",
              "      <td>1</td>\n",
              "      <td>0.0</td>\n",
              "    </tr>\n",
              "    <tr>\n",
              "      <th>3</th>\n",
              "      <td>Arkansas</td>\n",
              "      <td>AR</td>\n",
              "      <td>2020</td>\n",
              "      <td>3013756</td>\n",
              "      <td>4</td>\n",
              "      <td>753439</td>\n",
              "      <td>1</td>\n",
              "      <td>0.0</td>\n",
              "    </tr>\n",
              "    <tr>\n",
              "      <th>4</th>\n",
              "      <td>California</td>\n",
              "      <td>CA</td>\n",
              "      <td>2020</td>\n",
              "      <td>39576757</td>\n",
              "      <td>52</td>\n",
              "      <td>761091</td>\n",
              "      <td>1</td>\n",
              "      <td>0.0</td>\n",
              "    </tr>\n",
              "  </tbody>\n",
              "</table>\n",
              "</div>"
            ],
            "text/plain": [
              "        State Abbr  Year  Population  Reps  Per_Rep  RepsCalculated  Priority\n",
              "0     Alabama   AL  2020     5030053     7   718579               1       0.0\n",
              "1      Alaska   AK  2020      736081     1   736081               1       0.0\n",
              "2     Arizona   AZ  2020     7158923     9   795435               1       0.0\n",
              "3    Arkansas   AR  2020     3013756     4   753439               1       0.0\n",
              "4  California   CA  2020    39576757    52   761091               1       0.0"
            ]
          },
          "metadata": {
            "tags": []
          },
          "execution_count": 4
        }
      ]
    },
    {
      "cell_type": "markdown",
      "metadata": {
        "id": "YlNE7HEg6-eZ"
      },
      "source": [
        "First, we need to write a Python function for the Equal Proportions Method and calculate the initial priorities for each state, which we can do with the Pandas `.apply` function."
      ]
    },
    {
      "cell_type": "code",
      "metadata": {
        "id": "SgztKg1S66kK"
      },
      "source": [
        "def EqualProportionsMethod(st):\n",
        "  reps = st[\"RepsCalculated\"]\n",
        "  priority = st[\"Population\"] / (np.sqrt((reps + 1) * reps))\n",
        "  return priority"
      ],
      "execution_count": 5,
      "outputs": []
    },
    {
      "cell_type": "code",
      "metadata": {
        "colab": {
          "base_uri": "https://localhost:8080/",
          "height": 204
        },
        "id": "LJBgGKfHt1Go",
        "outputId": "872f79ae-fbce-4bba-e395-aca24097fe1b"
      },
      "source": [
        "test_2020[\"Priority\"] = test_2020.apply(EqualProportionsMethod, 1)\n",
        "test_2020.head()"
      ],
      "execution_count": 6,
      "outputs": [
        {
          "output_type": "execute_result",
          "data": {
            "text/html": [
              "<div>\n",
              "<style scoped>\n",
              "    .dataframe tbody tr th:only-of-type {\n",
              "        vertical-align: middle;\n",
              "    }\n",
              "\n",
              "    .dataframe tbody tr th {\n",
              "        vertical-align: top;\n",
              "    }\n",
              "\n",
              "    .dataframe thead th {\n",
              "        text-align: right;\n",
              "    }\n",
              "</style>\n",
              "<table border=\"1\" class=\"dataframe\">\n",
              "  <thead>\n",
              "    <tr style=\"text-align: right;\">\n",
              "      <th></th>\n",
              "      <th>State</th>\n",
              "      <th>Abbr</th>\n",
              "      <th>Year</th>\n",
              "      <th>Population</th>\n",
              "      <th>Reps</th>\n",
              "      <th>Per_Rep</th>\n",
              "      <th>RepsCalculated</th>\n",
              "      <th>Priority</th>\n",
              "    </tr>\n",
              "  </thead>\n",
              "  <tbody>\n",
              "    <tr>\n",
              "      <th>0</th>\n",
              "      <td>Alabama</td>\n",
              "      <td>AL</td>\n",
              "      <td>2020</td>\n",
              "      <td>5030053</td>\n",
              "      <td>7</td>\n",
              "      <td>718579</td>\n",
              "      <td>1</td>\n",
              "      <td>3.556785e+06</td>\n",
              "    </tr>\n",
              "    <tr>\n",
              "      <th>1</th>\n",
              "      <td>Alaska</td>\n",
              "      <td>AK</td>\n",
              "      <td>2020</td>\n",
              "      <td>736081</td>\n",
              "      <td>1</td>\n",
              "      <td>736081</td>\n",
              "      <td>1</td>\n",
              "      <td>5.204879e+05</td>\n",
              "    </tr>\n",
              "    <tr>\n",
              "      <th>2</th>\n",
              "      <td>Arizona</td>\n",
              "      <td>AZ</td>\n",
              "      <td>2020</td>\n",
              "      <td>7158923</td>\n",
              "      <td>9</td>\n",
              "      <td>795435</td>\n",
              "      <td>1</td>\n",
              "      <td>5.062123e+06</td>\n",
              "    </tr>\n",
              "    <tr>\n",
              "      <th>3</th>\n",
              "      <td>Arkansas</td>\n",
              "      <td>AR</td>\n",
              "      <td>2020</td>\n",
              "      <td>3013756</td>\n",
              "      <td>4</td>\n",
              "      <td>753439</td>\n",
              "      <td>1</td>\n",
              "      <td>2.131047e+06</td>\n",
              "    </tr>\n",
              "    <tr>\n",
              "      <th>4</th>\n",
              "      <td>California</td>\n",
              "      <td>CA</td>\n",
              "      <td>2020</td>\n",
              "      <td>39576757</td>\n",
              "      <td>52</td>\n",
              "      <td>761091</td>\n",
              "      <td>1</td>\n",
              "      <td>2.798499e+07</td>\n",
              "    </tr>\n",
              "  </tbody>\n",
              "</table>\n",
              "</div>"
            ],
            "text/plain": [
              "        State Abbr  Year  ...  Per_Rep  RepsCalculated      Priority\n",
              "0     Alabama   AL  2020  ...   718579               1  3.556785e+06\n",
              "1      Alaska   AK  2020  ...   736081               1  5.204879e+05\n",
              "2     Arizona   AZ  2020  ...   795435               1  5.062123e+06\n",
              "3    Arkansas   AR  2020  ...   753439               1  2.131047e+06\n",
              "4  California   CA  2020  ...   761091               1  2.798499e+07\n",
              "\n",
              "[5 rows x 8 columns]"
            ]
          },
          "metadata": {
            "tags": []
          },
          "execution_count": 6
        }
      ]
    },
    {
      "cell_type": "markdown",
      "metadata": {
        "id": "iQB32rMB89kF"
      },
      "source": [
        "As expected, California has the highest priority, which we can determine with the `.idxmax()` method, which returns the index of the row with the highest value of a specified column"
      ]
    },
    {
      "cell_type": "code",
      "metadata": {
        "colab": {
          "base_uri": "https://localhost:8080/",
          "height": 35
        },
        "id": "0lT-xA1yLR7V",
        "outputId": "70cd3050-738d-4dd0-af6f-424ee0bc4657"
      },
      "source": [
        "test_2020.loc[test_2020['Priority'].idxmax(),'State']"
      ],
      "execution_count": 7,
      "outputs": [
        {
          "output_type": "execute_result",
          "data": {
            "application/vnd.google.colaboratory.intrinsic+json": {
              "type": "string"
            },
            "text/plain": [
              "'California'"
            ]
          },
          "metadata": {
            "tags": []
          },
          "execution_count": 7
        }
      ]
    },
    {
      "cell_type": "markdown",
      "metadata": {
        "id": "XYpJUOdH8JFA"
      },
      "source": [
        "Great, now we just need a function to find the state with the highest priority, add a seat to that state, and recalculate it's priority. (It would be wasteful to recompute each state's priority after each assignment since they don't change unless a seat is added.) While we're at it, let's make a list called `ORDER` to see the order in which states get a representative. This should be initialized once per complete trial"
      ]
    },
    {
      "cell_type": "code",
      "metadata": {
        "id": "oQIPGbV18Hn_"
      },
      "source": [
        "def addNextSeat(df, ORDER=[]):\n",
        "  indexNext = df['Priority'].idxmax() # The index of the row with the highest priority\n",
        "  # Add a seat to the state in that row\n",
        "  df.loc[indexNext,'RepsCalculated'] += 1\n",
        "  # Recompute the priority for this state\n",
        "  df.loc[indexNext,'Priority'] = EqualProportionsMethod(df.loc[indexNext])\n",
        "  # Add the state to the ORDER list\n",
        "  ORDER.append(df.loc[indexNext,'Abbr'])"
      ],
      "execution_count": 8,
      "outputs": []
    },
    {
      "cell_type": "markdown",
      "metadata": {
        "id": "USHZxU1z9tdW"
      },
      "source": [
        "Let's try that once and make sure it works."
      ]
    },
    {
      "cell_type": "code",
      "metadata": {
        "colab": {
          "base_uri": "https://localhost:8080/",
          "height": 221
        },
        "id": "QPbvvcaj9rvY",
        "outputId": "6e16f714-eb05-4eef-89e0-e637f5396d17"
      },
      "source": [
        "ORDER_TEST = []  \n",
        "addNextSeat(test_2020, ORDER_TEST)\n",
        "print(ORDER_TEST)\n",
        "test_2020.head()"
      ],
      "execution_count": 9,
      "outputs": [
        {
          "output_type": "stream",
          "text": [
            "['CA']\n"
          ],
          "name": "stdout"
        },
        {
          "output_type": "execute_result",
          "data": {
            "text/html": [
              "<div>\n",
              "<style scoped>\n",
              "    .dataframe tbody tr th:only-of-type {\n",
              "        vertical-align: middle;\n",
              "    }\n",
              "\n",
              "    .dataframe tbody tr th {\n",
              "        vertical-align: top;\n",
              "    }\n",
              "\n",
              "    .dataframe thead th {\n",
              "        text-align: right;\n",
              "    }\n",
              "</style>\n",
              "<table border=\"1\" class=\"dataframe\">\n",
              "  <thead>\n",
              "    <tr style=\"text-align: right;\">\n",
              "      <th></th>\n",
              "      <th>State</th>\n",
              "      <th>Abbr</th>\n",
              "      <th>Year</th>\n",
              "      <th>Population</th>\n",
              "      <th>Reps</th>\n",
              "      <th>Per_Rep</th>\n",
              "      <th>RepsCalculated</th>\n",
              "      <th>Priority</th>\n",
              "    </tr>\n",
              "  </thead>\n",
              "  <tbody>\n",
              "    <tr>\n",
              "      <th>0</th>\n",
              "      <td>Alabama</td>\n",
              "      <td>AL</td>\n",
              "      <td>2020</td>\n",
              "      <td>5030053</td>\n",
              "      <td>7</td>\n",
              "      <td>718579</td>\n",
              "      <td>1</td>\n",
              "      <td>3.556785e+06</td>\n",
              "    </tr>\n",
              "    <tr>\n",
              "      <th>1</th>\n",
              "      <td>Alaska</td>\n",
              "      <td>AK</td>\n",
              "      <td>2020</td>\n",
              "      <td>736081</td>\n",
              "      <td>1</td>\n",
              "      <td>736081</td>\n",
              "      <td>1</td>\n",
              "      <td>5.204879e+05</td>\n",
              "    </tr>\n",
              "    <tr>\n",
              "      <th>2</th>\n",
              "      <td>Arizona</td>\n",
              "      <td>AZ</td>\n",
              "      <td>2020</td>\n",
              "      <td>7158923</td>\n",
              "      <td>9</td>\n",
              "      <td>795435</td>\n",
              "      <td>1</td>\n",
              "      <td>5.062123e+06</td>\n",
              "    </tr>\n",
              "    <tr>\n",
              "      <th>3</th>\n",
              "      <td>Arkansas</td>\n",
              "      <td>AR</td>\n",
              "      <td>2020</td>\n",
              "      <td>3013756</td>\n",
              "      <td>4</td>\n",
              "      <td>753439</td>\n",
              "      <td>1</td>\n",
              "      <td>2.131047e+06</td>\n",
              "    </tr>\n",
              "    <tr>\n",
              "      <th>4</th>\n",
              "      <td>California</td>\n",
              "      <td>CA</td>\n",
              "      <td>2020</td>\n",
              "      <td>39576757</td>\n",
              "      <td>52</td>\n",
              "      <td>761091</td>\n",
              "      <td>2</td>\n",
              "      <td>1.615714e+07</td>\n",
              "    </tr>\n",
              "  </tbody>\n",
              "</table>\n",
              "</div>"
            ],
            "text/plain": [
              "        State Abbr  Year  ...  Per_Rep  RepsCalculated      Priority\n",
              "0     Alabama   AL  2020  ...   718579               1  3.556785e+06\n",
              "1      Alaska   AK  2020  ...   736081               1  5.204879e+05\n",
              "2     Arizona   AZ  2020  ...   795435               1  5.062123e+06\n",
              "3    Arkansas   AR  2020  ...   753439               1  2.131047e+06\n",
              "4  California   CA  2020  ...   761091               2  1.615714e+07\n",
              "\n",
              "[5 rows x 8 columns]"
            ]
          },
          "metadata": {
            "tags": []
          },
          "execution_count": 9
        }
      ]
    },
    {
      "cell_type": "markdown",
      "metadata": {
        "id": "Dd9FvNgs93SJ"
      },
      "source": [
        "Great! There are now 384 seats left. Let's give it a go"
      ]
    },
    {
      "cell_type": "code",
      "metadata": {
        "colab": {
          "base_uri": "https://localhost:8080/",
          "height": 204
        },
        "id": "uysr2c9v92fi",
        "outputId": "bb4cec5d-291d-4e3c-ffce-fcda3e29d6e7"
      },
      "source": [
        "SEATS_LEFT = 384\n",
        "while SEATS_LEFT > 0:\n",
        "  addNextSeat(test_2020, ORDER_TEST)\n",
        "  SEATS_LEFT -= 1\n",
        "\n",
        "test_2020.head()"
      ],
      "execution_count": 10,
      "outputs": [
        {
          "output_type": "execute_result",
          "data": {
            "text/html": [
              "<div>\n",
              "<style scoped>\n",
              "    .dataframe tbody tr th:only-of-type {\n",
              "        vertical-align: middle;\n",
              "    }\n",
              "\n",
              "    .dataframe tbody tr th {\n",
              "        vertical-align: top;\n",
              "    }\n",
              "\n",
              "    .dataframe thead th {\n",
              "        text-align: right;\n",
              "    }\n",
              "</style>\n",
              "<table border=\"1\" class=\"dataframe\">\n",
              "  <thead>\n",
              "    <tr style=\"text-align: right;\">\n",
              "      <th></th>\n",
              "      <th>State</th>\n",
              "      <th>Abbr</th>\n",
              "      <th>Year</th>\n",
              "      <th>Population</th>\n",
              "      <th>Reps</th>\n",
              "      <th>Per_Rep</th>\n",
              "      <th>RepsCalculated</th>\n",
              "      <th>Priority</th>\n",
              "    </tr>\n",
              "  </thead>\n",
              "  <tbody>\n",
              "    <tr>\n",
              "      <th>0</th>\n",
              "      <td>Alabama</td>\n",
              "      <td>AL</td>\n",
              "      <td>2020</td>\n",
              "      <td>5030053</td>\n",
              "      <td>7</td>\n",
              "      <td>718579</td>\n",
              "      <td>7</td>\n",
              "      <td>672169.105833</td>\n",
              "    </tr>\n",
              "    <tr>\n",
              "      <th>1</th>\n",
              "      <td>Alaska</td>\n",
              "      <td>AK</td>\n",
              "      <td>2020</td>\n",
              "      <td>736081</td>\n",
              "      <td>1</td>\n",
              "      <td>736081</td>\n",
              "      <td>1</td>\n",
              "      <td>520487.866603</td>\n",
              "    </tr>\n",
              "    <tr>\n",
              "      <th>2</th>\n",
              "      <td>Arizona</td>\n",
              "      <td>AZ</td>\n",
              "      <td>2020</td>\n",
              "      <td>7158923</td>\n",
              "      <td>9</td>\n",
              "      <td>795435</td>\n",
              "      <td>9</td>\n",
              "      <td>754616.742459</td>\n",
              "    </tr>\n",
              "    <tr>\n",
              "      <th>3</th>\n",
              "      <td>Arkansas</td>\n",
              "      <td>AR</td>\n",
              "      <td>2020</td>\n",
              "      <td>3013756</td>\n",
              "      <td>4</td>\n",
              "      <td>753439</td>\n",
              "      <td>4</td>\n",
              "      <td>673896.328360</td>\n",
              "    </tr>\n",
              "    <tr>\n",
              "      <th>4</th>\n",
              "      <td>California</td>\n",
              "      <td>CA</td>\n",
              "      <td>2020</td>\n",
              "      <td>39576757</td>\n",
              "      <td>52</td>\n",
              "      <td>761091</td>\n",
              "      <td>52</td>\n",
              "      <td>753877.180693</td>\n",
              "    </tr>\n",
              "  </tbody>\n",
              "</table>\n",
              "</div>"
            ],
            "text/plain": [
              "        State Abbr  Year  ...  Per_Rep  RepsCalculated       Priority\n",
              "0     Alabama   AL  2020  ...   718579               7  672169.105833\n",
              "1      Alaska   AK  2020  ...   736081               1  520487.866603\n",
              "2     Arizona   AZ  2020  ...   795435               9  754616.742459\n",
              "3    Arkansas   AR  2020  ...   753439               4  673896.328360\n",
              "4  California   CA  2020  ...   761091              52  753877.180693\n",
              "\n",
              "[5 rows x 8 columns]"
            ]
          },
          "metadata": {
            "tags": []
          },
          "execution_count": 10
        }
      ]
    },
    {
      "cell_type": "code",
      "metadata": {
        "colab": {
          "base_uri": "https://localhost:8080/"
        },
        "id": "H68HwdLNjM_f",
        "outputId": "fdb2bba0-167d-4b94-916a-a5cf05e2b1d7"
      },
      "source": [
        "print(ORDER_TEST)"
      ],
      "execution_count": 11,
      "outputs": [
        {
          "output_type": "stream",
          "text": [
            "['CA', 'TX', 'CA', 'FL', 'NY', 'TX', 'CA', 'PA', 'IL', 'CA', 'FL', 'TX', 'OH', 'NY', 'GA', 'NC', 'CA', 'MI', 'NJ', 'TX', 'FL', 'VA', 'CA', 'NY', 'WA', 'TX', 'PA', 'CA', 'IL', 'AZ', 'MA', 'TN', 'FL', 'OH', 'IN', 'CA', 'NY', 'TX', 'GA', 'MD', 'MO', 'NC', 'CA', 'WI', 'MI', 'CO', 'MN', 'FL', 'TX', 'NJ', 'CA', 'PA', 'IL', 'NY', 'SC', 'AL', 'VA', 'CA', 'TX', 'OH', 'FL', 'LA', 'KY', 'CA', 'WA', 'NY', 'GA', 'TX', 'NC', 'OR', 'CA', 'AZ', 'MI', 'PA', 'FL', 'MA', 'IL', 'TN', 'OK', 'TX', 'IN', 'CA', 'NY', 'NJ', 'OH', 'CA', 'CT', 'FL', 'TX', 'MD', 'MO', 'VA', 'WI', 'CA', 'GA', 'NY', 'PA', 'CO', 'IL', 'NC', 'TX', 'MN', 'UT', 'FL', 'CA', 'IA', 'MI', 'WA', 'NV', 'TX', 'OH', 'CA', 'AR', 'NY', 'MS', 'SC', 'KS', 'NJ', 'AZ', 'FL', 'AL', 'MA', 'CA', 'TX', 'PA', 'TN', 'IL', 'IN', 'GA', 'VA', 'CA', 'NY', 'NC', 'LA', 'TX', 'FL', 'CA', 'MI', 'KY', 'OH', 'MD', 'MO', 'TX', 'NY', 'CA', 'PA', 'OR', 'FL', 'WA', 'IL', 'WI', 'NJ', 'CA', 'CO', 'TX', 'GA', 'MN', 'NY', 'OK', 'CA', 'NC', 'AZ', 'FL', 'VA', 'TX', 'OH', 'MA', 'MI', 'CA', 'TN', 'PA', 'IN', 'IL', 'NM', 'NY', 'TX', 'CA', 'FL', 'SC', 'CT', 'AL', 'CA', 'NJ', 'GA', 'TX', 'WA', 'NC', 'NY', 'FL', 'OH', 'CA', 'NE', 'MD', 'MO', 'PA', 'TX', 'IL', 'MI', 'LA', 'CA', 'UT', 'VA', 'WI', 'FL', 'AZ', 'NY', 'IA', 'ID', 'KY', 'CA', 'TX', 'CO', 'MA', 'MN', 'WV', 'NV', 'GA', 'TN', 'CA', 'OH', 'TX', 'NJ', 'PA', 'IN', 'FL', 'NC', 'AR', 'NY', 'OR', 'IL', 'CA', 'MS', 'KS', 'TX', 'WA', 'MI', 'CA', 'FL', 'VA', 'NY', 'CA', 'SC', 'TX', 'OK', 'PA', 'GA', 'MD', 'OH', 'AL', 'MO', 'IL', 'CA', 'FL', 'AZ', 'NC', 'TX', 'NJ', 'NY', 'MA', 'CA', 'WI', 'TN', 'MI', 'TX', 'CO', 'CA', 'FL', 'IN', 'MN', 'LA', 'PA', 'CT', 'NY', 'HI', 'WA', 'CA', 'OH', 'IL', 'TX', 'GA', 'VA', 'KY', 'FL', 'CA', 'NC', 'TX', 'NY', 'NJ', 'CA', 'NH', 'PA', 'ME', 'MI', 'FL', 'TX', 'AZ', 'MD', 'CA', 'MO', 'IL', 'OR', 'UT', 'OH', 'NY', 'MA', 'SC', 'GA', 'CA', 'TX', 'TN', 'IA', 'AL', 'FL', 'VA', 'WI', 'NC', 'CA', 'WA', 'IN', 'NY', 'TX', 'PA', 'NV', 'CO', 'CA', 'OK', 'NJ', 'IL', 'MN', 'FL', 'MI', 'OH', 'TX', 'AR', 'CA', 'NM', 'NY', 'GA', 'MS', 'CA', 'LA', 'KS', 'FL', 'TX', 'AZ', 'PA', 'NC', 'CA', 'MA', 'IL', 'MD', 'NY', 'VA', 'KY', 'MO', 'TX', 'CA', 'TN', 'OH', 'FL', 'WA', 'NJ', 'MI', 'CT', 'NE', 'IN', 'TX', 'CA', 'GA', 'NY', 'SC', 'PA', 'WI', 'FL', 'CA', 'TX', 'IL', 'RI', 'AL', 'NC', 'OR', 'CO', 'CA', 'MT', 'MN']\n"
          ],
          "name": "stdout"
        }
      ]
    },
    {
      "cell_type": "markdown",
      "metadata": {
        "id": "3kYBrlBC-SzA"
      },
      "source": [
        "Looks good! We can double-check them all easily by taking the absolute value of the difference between our calculations from the official apportionment:"
      ]
    },
    {
      "cell_type": "code",
      "metadata": {
        "colab": {
          "base_uri": "https://localhost:8080/",
          "height": 221
        },
        "id": "N5ty9OgLuo00",
        "outputId": "81f95868-40cc-4724-b5d2-011a908399e2"
      },
      "source": [
        "test_2020['Error'] = np.abs(test_2020['Reps'] - test_2020['RepsCalculated'])\n",
        "print(\"ERROR:\", sum(test_2020['Error']))\n",
        "test_2020.head()"
      ],
      "execution_count": 12,
      "outputs": [
        {
          "output_type": "stream",
          "text": [
            "ERROR: 0\n"
          ],
          "name": "stdout"
        },
        {
          "output_type": "execute_result",
          "data": {
            "text/html": [
              "<div>\n",
              "<style scoped>\n",
              "    .dataframe tbody tr th:only-of-type {\n",
              "        vertical-align: middle;\n",
              "    }\n",
              "\n",
              "    .dataframe tbody tr th {\n",
              "        vertical-align: top;\n",
              "    }\n",
              "\n",
              "    .dataframe thead th {\n",
              "        text-align: right;\n",
              "    }\n",
              "</style>\n",
              "<table border=\"1\" class=\"dataframe\">\n",
              "  <thead>\n",
              "    <tr style=\"text-align: right;\">\n",
              "      <th></th>\n",
              "      <th>State</th>\n",
              "      <th>Abbr</th>\n",
              "      <th>Year</th>\n",
              "      <th>Population</th>\n",
              "      <th>Reps</th>\n",
              "      <th>Per_Rep</th>\n",
              "      <th>RepsCalculated</th>\n",
              "      <th>Priority</th>\n",
              "      <th>Error</th>\n",
              "    </tr>\n",
              "  </thead>\n",
              "  <tbody>\n",
              "    <tr>\n",
              "      <th>0</th>\n",
              "      <td>Alabama</td>\n",
              "      <td>AL</td>\n",
              "      <td>2020</td>\n",
              "      <td>5030053</td>\n",
              "      <td>7</td>\n",
              "      <td>718579</td>\n",
              "      <td>7</td>\n",
              "      <td>672169.105833</td>\n",
              "      <td>0</td>\n",
              "    </tr>\n",
              "    <tr>\n",
              "      <th>1</th>\n",
              "      <td>Alaska</td>\n",
              "      <td>AK</td>\n",
              "      <td>2020</td>\n",
              "      <td>736081</td>\n",
              "      <td>1</td>\n",
              "      <td>736081</td>\n",
              "      <td>1</td>\n",
              "      <td>520487.866603</td>\n",
              "      <td>0</td>\n",
              "    </tr>\n",
              "    <tr>\n",
              "      <th>2</th>\n",
              "      <td>Arizona</td>\n",
              "      <td>AZ</td>\n",
              "      <td>2020</td>\n",
              "      <td>7158923</td>\n",
              "      <td>9</td>\n",
              "      <td>795435</td>\n",
              "      <td>9</td>\n",
              "      <td>754616.742459</td>\n",
              "      <td>0</td>\n",
              "    </tr>\n",
              "    <tr>\n",
              "      <th>3</th>\n",
              "      <td>Arkansas</td>\n",
              "      <td>AR</td>\n",
              "      <td>2020</td>\n",
              "      <td>3013756</td>\n",
              "      <td>4</td>\n",
              "      <td>753439</td>\n",
              "      <td>4</td>\n",
              "      <td>673896.328360</td>\n",
              "      <td>0</td>\n",
              "    </tr>\n",
              "    <tr>\n",
              "      <th>4</th>\n",
              "      <td>California</td>\n",
              "      <td>CA</td>\n",
              "      <td>2020</td>\n",
              "      <td>39576757</td>\n",
              "      <td>52</td>\n",
              "      <td>761091</td>\n",
              "      <td>52</td>\n",
              "      <td>753877.180693</td>\n",
              "      <td>0</td>\n",
              "    </tr>\n",
              "  </tbody>\n",
              "</table>\n",
              "</div>"
            ],
            "text/plain": [
              "        State Abbr  Year  ...  RepsCalculated       Priority  Error\n",
              "0     Alabama   AL  2020  ...               7  672169.105833      0\n",
              "1      Alaska   AK  2020  ...               1  520487.866603      0\n",
              "2     Arizona   AZ  2020  ...               9  754616.742459      0\n",
              "3    Arkansas   AR  2020  ...               4  673896.328360      0\n",
              "4  California   CA  2020  ...              52  753877.180693      0\n",
              "\n",
              "[5 rows x 9 columns]"
            ]
          },
          "metadata": {
            "tags": []
          },
          "execution_count": 12
        }
      ]
    },
    {
      "cell_type": "markdown",
      "metadata": {
        "id": "xHmIlpGcMVUo"
      },
      "source": [
        "Let's wrap this whole process in a function for easy manipulation:"
      ]
    },
    {
      "cell_type": "code",
      "metadata": {
        "id": "MkANdxPzMUrg"
      },
      "source": [
        "def calculateApportionment(ignoreStates=['District of Columbia', 'Puerto Rico'], TOTAL_SEATS=435):\n",
        "  ORDER_SEATS = []\n",
        "\n",
        "  data_2020_filtered = data_2020[~data_2020['State'].isin(ignoreStates)]\n",
        "  data_2020_filtered.reset_index(drop=True)\n",
        "\n",
        "  test_2020 = data_2020_filtered.copy()\n",
        "  test_2020['RepsCalculated'] = 1\n",
        "  test_2020['RepsCalculated'] = test_2020['RepsCalculated'].astype('Int64')\n",
        "  test_2020['Priority'] = 0.0\n",
        "\n",
        "  test_2020[\"Priority\"] = test_2020.apply(EqualProportionsMethod, 1)\n",
        "\n",
        "  SEATS_LEFT = TOTAL_SEATS - test_2020.shape[0]\n",
        "  while SEATS_LEFT > 0:\n",
        "    addNextSeat(test_2020, ORDER_SEATS)\n",
        "    SEATS_LEFT -= 1\n",
        "\n",
        "  return test_2020, ORDER_SEATS "
      ],
      "execution_count": 13,
      "outputs": []
    },
    {
      "cell_type": "code",
      "metadata": {
        "colab": {
          "base_uri": "https://localhost:8080/",
          "height": 204
        },
        "id": "NcquEH3-2Z96",
        "outputId": "e7b9847a-03cc-41e4-9a9f-64443a001388"
      },
      "source": [
        "demo_2020, order = calculateApportionment()\n",
        "demo_2020.head()"
      ],
      "execution_count": 14,
      "outputs": [
        {
          "output_type": "execute_result",
          "data": {
            "text/html": [
              "<div>\n",
              "<style scoped>\n",
              "    .dataframe tbody tr th:only-of-type {\n",
              "        vertical-align: middle;\n",
              "    }\n",
              "\n",
              "    .dataframe tbody tr th {\n",
              "        vertical-align: top;\n",
              "    }\n",
              "\n",
              "    .dataframe thead th {\n",
              "        text-align: right;\n",
              "    }\n",
              "</style>\n",
              "<table border=\"1\" class=\"dataframe\">\n",
              "  <thead>\n",
              "    <tr style=\"text-align: right;\">\n",
              "      <th></th>\n",
              "      <th>State</th>\n",
              "      <th>Abbr</th>\n",
              "      <th>Year</th>\n",
              "      <th>Population</th>\n",
              "      <th>Reps</th>\n",
              "      <th>Per_Rep</th>\n",
              "      <th>RepsCalculated</th>\n",
              "      <th>Priority</th>\n",
              "    </tr>\n",
              "  </thead>\n",
              "  <tbody>\n",
              "    <tr>\n",
              "      <th>0</th>\n",
              "      <td>Alabama</td>\n",
              "      <td>AL</td>\n",
              "      <td>2020</td>\n",
              "      <td>5030053</td>\n",
              "      <td>7</td>\n",
              "      <td>718579</td>\n",
              "      <td>7</td>\n",
              "      <td>672169.105833</td>\n",
              "    </tr>\n",
              "    <tr>\n",
              "      <th>1</th>\n",
              "      <td>Alaska</td>\n",
              "      <td>AK</td>\n",
              "      <td>2020</td>\n",
              "      <td>736081</td>\n",
              "      <td>1</td>\n",
              "      <td>736081</td>\n",
              "      <td>1</td>\n",
              "      <td>520487.866603</td>\n",
              "    </tr>\n",
              "    <tr>\n",
              "      <th>2</th>\n",
              "      <td>Arizona</td>\n",
              "      <td>AZ</td>\n",
              "      <td>2020</td>\n",
              "      <td>7158923</td>\n",
              "      <td>9</td>\n",
              "      <td>795435</td>\n",
              "      <td>9</td>\n",
              "      <td>754616.742459</td>\n",
              "    </tr>\n",
              "    <tr>\n",
              "      <th>3</th>\n",
              "      <td>Arkansas</td>\n",
              "      <td>AR</td>\n",
              "      <td>2020</td>\n",
              "      <td>3013756</td>\n",
              "      <td>4</td>\n",
              "      <td>753439</td>\n",
              "      <td>4</td>\n",
              "      <td>673896.328360</td>\n",
              "    </tr>\n",
              "    <tr>\n",
              "      <th>4</th>\n",
              "      <td>California</td>\n",
              "      <td>CA</td>\n",
              "      <td>2020</td>\n",
              "      <td>39576757</td>\n",
              "      <td>52</td>\n",
              "      <td>761091</td>\n",
              "      <td>52</td>\n",
              "      <td>753877.180693</td>\n",
              "    </tr>\n",
              "  </tbody>\n",
              "</table>\n",
              "</div>"
            ],
            "text/plain": [
              "        State Abbr  Year  ...  Per_Rep  RepsCalculated       Priority\n",
              "0     Alabama   AL  2020  ...   718579               7  672169.105833\n",
              "1      Alaska   AK  2020  ...   736081               1  520487.866603\n",
              "2     Arizona   AZ  2020  ...   795435               9  754616.742459\n",
              "3    Arkansas   AR  2020  ...   753439               4  673896.328360\n",
              "4  California   CA  2020  ...   761091              52  753877.180693\n",
              "\n",
              "[5 rows x 8 columns]"
            ]
          },
          "metadata": {
            "tags": []
          },
          "execution_count": 14
        }
      ]
    },
    {
      "cell_type": "code",
      "metadata": {
        "colab": {
          "base_uri": "https://localhost:8080/"
        },
        "id": "QYt6cVRsuZxx",
        "outputId": "fe87ccf4-42b9-485d-e01f-7bd6122b0581"
      },
      "source": [
        "print(\"Last state to get a seat is\", order[-1])"
      ],
      "execution_count": 15,
      "outputs": [
        {
          "output_type": "stream",
          "text": [
            "Last state to get a seat is MN\n"
          ],
          "name": "stdout"
        }
      ]
    },
    {
      "cell_type": "markdown",
      "metadata": {
        "id": "PRX8aNsaPlbp"
      },
      "source": [
        "## Now to Have Some Fun!\n",
        "\n",
        "Let's start messing around with statehood and the total number of seats"
      ]
    },
    {
      "cell_type": "code",
      "metadata": {
        "colab": {
          "base_uri": "https://localhost:8080/",
          "height": 204
        },
        "id": "rPvn79bJM4uE",
        "outputId": "a6a280e6-e30a-4f31-d3db-8a264da2162e"
      },
      "source": [
        "demo_2020_with_dc, _ = calculateApportionment(ignoreStates=['Puerto Rico'])\n",
        "demo_2020_with_dc.head()"
      ],
      "execution_count": 16,
      "outputs": [
        {
          "output_type": "execute_result",
          "data": {
            "text/html": [
              "<div>\n",
              "<style scoped>\n",
              "    .dataframe tbody tr th:only-of-type {\n",
              "        vertical-align: middle;\n",
              "    }\n",
              "\n",
              "    .dataframe tbody tr th {\n",
              "        vertical-align: top;\n",
              "    }\n",
              "\n",
              "    .dataframe thead th {\n",
              "        text-align: right;\n",
              "    }\n",
              "</style>\n",
              "<table border=\"1\" class=\"dataframe\">\n",
              "  <thead>\n",
              "    <tr style=\"text-align: right;\">\n",
              "      <th></th>\n",
              "      <th>State</th>\n",
              "      <th>Abbr</th>\n",
              "      <th>Year</th>\n",
              "      <th>Population</th>\n",
              "      <th>Reps</th>\n",
              "      <th>Per_Rep</th>\n",
              "      <th>RepsCalculated</th>\n",
              "      <th>Priority</th>\n",
              "    </tr>\n",
              "  </thead>\n",
              "  <tbody>\n",
              "    <tr>\n",
              "      <th>0</th>\n",
              "      <td>Alabama</td>\n",
              "      <td>AL</td>\n",
              "      <td>2020</td>\n",
              "      <td>5030053</td>\n",
              "      <td>7</td>\n",
              "      <td>718579</td>\n",
              "      <td>7</td>\n",
              "      <td>672169.105833</td>\n",
              "    </tr>\n",
              "    <tr>\n",
              "      <th>1</th>\n",
              "      <td>Alaska</td>\n",
              "      <td>AK</td>\n",
              "      <td>2020</td>\n",
              "      <td>736081</td>\n",
              "      <td>1</td>\n",
              "      <td>736081</td>\n",
              "      <td>1</td>\n",
              "      <td>520487.866603</td>\n",
              "    </tr>\n",
              "    <tr>\n",
              "      <th>2</th>\n",
              "      <td>Arizona</td>\n",
              "      <td>AZ</td>\n",
              "      <td>2020</td>\n",
              "      <td>7158923</td>\n",
              "      <td>9</td>\n",
              "      <td>795435</td>\n",
              "      <td>9</td>\n",
              "      <td>754616.742459</td>\n",
              "    </tr>\n",
              "    <tr>\n",
              "      <th>3</th>\n",
              "      <td>Arkansas</td>\n",
              "      <td>AR</td>\n",
              "      <td>2020</td>\n",
              "      <td>3013756</td>\n",
              "      <td>4</td>\n",
              "      <td>753439</td>\n",
              "      <td>4</td>\n",
              "      <td>673896.328360</td>\n",
              "    </tr>\n",
              "    <tr>\n",
              "      <th>4</th>\n",
              "      <td>California</td>\n",
              "      <td>CA</td>\n",
              "      <td>2020</td>\n",
              "      <td>39576757</td>\n",
              "      <td>52</td>\n",
              "      <td>761091</td>\n",
              "      <td>52</td>\n",
              "      <td>753877.180693</td>\n",
              "    </tr>\n",
              "  </tbody>\n",
              "</table>\n",
              "</div>"
            ],
            "text/plain": [
              "        State Abbr  Year  ...  Per_Rep  RepsCalculated       Priority\n",
              "0     Alabama   AL  2020  ...   718579               7  672169.105833\n",
              "1      Alaska   AK  2020  ...   736081               1  520487.866603\n",
              "2     Arizona   AZ  2020  ...   795435               9  754616.742459\n",
              "3    Arkansas   AR  2020  ...   753439               4  673896.328360\n",
              "4  California   CA  2020  ...   761091              52  753877.180693\n",
              "\n",
              "[5 rows x 8 columns]"
            ]
          },
          "metadata": {
            "tags": []
          },
          "execution_count": 16
        }
      ]
    },
    {
      "cell_type": "markdown",
      "metadata": {
        "id": "G9EJRg6NPoJl"
      },
      "source": [
        "## What's the difference?\n",
        "\n",
        "Let's write a function to location which states lost seat(s) if DC was a state"
      ]
    },
    {
      "cell_type": "code",
      "metadata": {
        "id": "9tUDDzdgPDP9"
      },
      "source": [
        "def compareToReality(df):\n",
        "  df['Difference'] = df['RepsCalculated'] - df['Reps']\n",
        "  df['Per_Rep_Computed'] = df['Population'] / df['RepsCalculated']\n",
        "\n",
        "  changes = df[df['Difference'] != 0]\n",
        "  for index, row in df.iterrows():\n",
        "    if (row['Difference'] < 0):\n",
        "      print('%s LOST %s seat(s)' % (row['State'], -row['Difference']))\n",
        "    elif (row['Difference'] > 0):\n",
        "      print('%s GAINED %s seat(s)' % (row['State'], row['Difference']))\n",
        "\n",
        "  "
      ],
      "execution_count": 17,
      "outputs": []
    },
    {
      "cell_type": "markdown",
      "metadata": {
        "id": "NKDbM-z6t9fT"
      },
      "source": [
        "Adding DC, which gets one seat, takes it's spot from Minnesota, which makes sense since Minnesota otherwise gets the last seat in the current apportionment"
      ]
    },
    {
      "cell_type": "code",
      "metadata": {
        "colab": {
          "base_uri": "https://localhost:8080/"
        },
        "id": "lyg8GhgfQSp1",
        "outputId": "efbed1b5-ec1a-404c-ece6-f603e23e8149"
      },
      "source": [
        "compareToReality(demo_2020_with_dc)"
      ],
      "execution_count": 18,
      "outputs": [
        {
          "output_type": "stream",
          "text": [
            "District of Columbia GAINED 1 seat(s)\n",
            "Minnesota LOST 1 seat(s)\n"
          ],
          "name": "stdout"
        }
      ]
    },
    {
      "cell_type": "markdown",
      "metadata": {
        "id": "g3UOcnFJR-KG"
      },
      "source": [
        "What if we add a seat for DC?"
      ]
    },
    {
      "cell_type": "code",
      "metadata": {
        "colab": {
          "base_uri": "https://localhost:8080/"
        },
        "id": "VPm_bXOWSAts",
        "outputId": "84031956-a688-4022-d238-b84212643cc1"
      },
      "source": [
        "order_436 = []\n",
        "demo_2020_with_dc_436, order_436 = calculateApportionment(ignoreStates=['Puerto Rico'], TOTAL_SEATS=436)\n",
        "compareToReality(demo_2020_with_dc_436)\n",
        "print(order_436[-1])"
      ],
      "execution_count": 19,
      "outputs": [
        {
          "output_type": "stream",
          "text": [
            "District of Columbia GAINED 1 seat(s)\n",
            "MN\n"
          ],
          "name": "stdout"
        }
      ]
    },
    {
      "cell_type": "markdown",
      "metadata": {
        "id": "1T7WD5oZR0YG"
      },
      "source": [
        "And what if we add PR by not DC?"
      ]
    },
    {
      "cell_type": "code",
      "metadata": {
        "colab": {
          "base_uri": "https://localhost:8080/"
        },
        "id": "ctjEUNE3Rzr8",
        "outputId": "692a21a2-acee-4952-afa8-fc12a07a6ff4"
      },
      "source": [
        "demo_2020_with_pr, _ = calculateApportionment(ignoreStates=['District of Columbia'])\n",
        "compareToReality(demo_2020_with_pr)"
      ],
      "execution_count": 20,
      "outputs": [
        {
          "output_type": "stream",
          "text": [
            "California LOST 1 seat(s)\n",
            "Colorado LOST 1 seat(s)\n",
            "Minnesota LOST 1 seat(s)\n",
            "Montana LOST 1 seat(s)\n",
            "Puerto Rico GAINED 4 seat(s)\n"
          ],
          "name": "stdout"
        }
      ]
    },
    {
      "cell_type": "markdown",
      "metadata": {
        "id": "8Cjm88rQtriC"
      },
      "source": [
        "Likewise, adding 4 seats for PR doesn't distrupt the apportionment otherwise"
      ]
    },
    {
      "cell_type": "code",
      "metadata": {
        "colab": {
          "base_uri": "https://localhost:8080/"
        },
        "id": "w8wqbcjYSjy_",
        "outputId": "30d78a5b-ee70-426e-9696-232f4b89e56d"
      },
      "source": [
        "demo_2020_with_pr_439, _ = calculateApportionment(ignoreStates=['District of Columbia'], TOTAL_SEATS=439)\n",
        "compareToReality(demo_2020_with_pr_439)"
      ],
      "execution_count": 21,
      "outputs": [
        {
          "output_type": "stream",
          "text": [
            "Puerto Rico GAINED 4 seat(s)\n"
          ],
          "name": "stdout"
        }
      ]
    },
    {
      "cell_type": "markdown",
      "metadata": {
        "id": "xhD8pAwcty1Y"
      },
      "source": [
        "Here's DC and PR, without expanding the House"
      ]
    },
    {
      "cell_type": "code",
      "metadata": {
        "colab": {
          "base_uri": "https://localhost:8080/"
        },
        "id": "83fOJTcnQZNv",
        "outputId": "49943138-f109-49a2-bc02-04b0fae3e977"
      },
      "source": [
        "demo_2020_with_dc_and_pr, _ = calculateApportionment(ignoreStates=[])\n",
        "compareToReality(demo_2020_with_dc_and_pr)"
      ],
      "execution_count": 22,
      "outputs": [
        {
          "output_type": "stream",
          "text": [
            "California LOST 1 seat(s)\n",
            "Colorado LOST 1 seat(s)\n",
            "District of Columbia GAINED 1 seat(s)\n",
            "Minnesota LOST 1 seat(s)\n",
            "Montana LOST 1 seat(s)\n",
            "Oregon LOST 1 seat(s)\n",
            "Puerto Rico GAINED 4 seat(s)\n"
          ],
          "name": "stdout"
        }
      ]
    },
    {
      "cell_type": "markdown",
      "metadata": {
        "id": "GvKzm8A_t3sC"
      },
      "source": [
        "And making room at the table"
      ]
    },
    {
      "cell_type": "code",
      "metadata": {
        "colab": {
          "base_uri": "https://localhost:8080/"
        },
        "id": "AUhH5op2Q4sw",
        "outputId": "49199e57-b0b7-481f-e76c-a7938fb7246a"
      },
      "source": [
        "demo_2020_with_dc_and_pr_440, _ = calculateApportionment(ignoreStates=[], TOTAL_SEATS=440)\n",
        "compareToReality(demo_2020_with_dc_and_pr_440)"
      ],
      "execution_count": 23,
      "outputs": [
        {
          "output_type": "stream",
          "text": [
            "District of Columbia GAINED 1 seat(s)\n",
            "Puerto Rico GAINED 4 seat(s)\n"
          ],
          "name": "stdout"
        }
      ]
    },
    {
      "cell_type": "code",
      "metadata": {
        "id": "vjD6_5isS6ts"
      },
      "source": [
        ""
      ],
      "execution_count": 23,
      "outputs": []
    }
  ]
}